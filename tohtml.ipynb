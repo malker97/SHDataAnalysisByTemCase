{
 "cells": [
  {
   "cell_type": "code",
   "execution_count": 79,
   "metadata": {},
   "outputs": [],
   "source": [
    "import folium\n",
    "import folium.plugins\n",
    "import pandas as pd\n",
    "file = open(\"case_data_index.json\", \"r\")\n",
    "line = file.readline()\n",
    "location = []\n",
    "case_addrs = []\n",
    "while line:\n",
    "    # if(line.find(\"嫖娼\") != -1 or line.find(\"嫖妓\") != -1 or line.find(\"卖淫\") != -1):\n",
    "    if(line.find(\"赌博\") != -1):\n",
    "        for el in line.split(','):\n",
    "            if(el.find(\"LATITUDE\") != -1):\n",
    "                lat = el.split(\":\")[1].replace('\"', '')\n",
    "            if(el.find(\"LONGITUDE\") != -1):\n",
    "                lon = el.split(\":\")[1].replace('\"', '')\n",
    "            if(el.find(\"CASE_ADDRESS\") != -1):\n",
    "                case_addr = el.split(\":\")[1].replace('\"', '')\n",
    "        location.append([float(lat), float(lon), case_addr])\n",
    "        case_addrs.append(case_addr)\n",
    "    line = file.readline()\n",
    "file.close()\n",
    "df = pd.DataFrame(location)\n",
    "df.columns = ['LATITUDE','LONGITUDE','CASE_ADDRESS']\n",
    "shanghai_map = folium.Map(location=[df[\"LATITUDE\"].mean(), df[\"LONGITUDE\"].mean()], zoom_start=14)\n",
    "folium.plugins.HeatMap(df[['LATITUDE', 'LONGITUDE']], radius=10).add_to(shanghai_map)\n",
    "for i in range(len(case_addrs)):\n",
    "    folium.Marker(location=[df[\"LATITUDE\"][i], df[\"LONGITUDE\"][i]], popup=case_addrs[i]).add_to(shanghai_map)\n",
    "shanghai_map.save(\"shanghai_map.html\")\n",
    "\n"
   ]
  }
 ],
 "metadata": {
  "kernelspec": {
   "display_name": "Python 3.9.13 64-bit",
   "language": "python",
   "name": "python3"
  },
  "language_info": {
   "codemirror_mode": {
    "name": "ipython",
    "version": 3
   },
   "file_extension": ".py",
   "mimetype": "text/x-python",
   "name": "python",
   "nbconvert_exporter": "python",
   "pygments_lexer": "ipython3",
   "version": "3.9.13"
  },
  "orig_nbformat": 4,
  "vscode": {
   "interpreter": {
    "hash": "b0fa6594d8f4cbf19f97940f81e996739fb7646882a419484c72d19e05852a7e"
   }
  }
 },
 "nbformat": 4,
 "nbformat_minor": 2
}
